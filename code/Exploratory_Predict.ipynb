{
 "cells": [
  {
   "cell_type": "code",
   "execution_count": 1,
   "id": "b0977f7e",
   "metadata": {},
   "outputs": [],
   "source": [
    "# Import Libraries\n",
    "import numpy as np\n",
    "import pandas as pd\n",
    "\n",
    "from statsmodels.tsa.seasonal import seasonal_decompose\n",
    "from pylab import rcParams\n",
    "\n",
    "import matplotlib.pyplot as plt\n",
    "import seaborn as sns"
   ]
  },
  {
   "cell_type": "code",
   "execution_count": 2,
   "id": "9a6dfaeb",
   "metadata": {},
   "outputs": [
    {
     "data": {
      "text/plain": [
       "(93, 114)"
      ]
     },
     "execution_count": 2,
     "metadata": {},
     "output_type": "execute_result"
    }
   ],
   "source": [
    "# Read Training Data\n",
    "df = pd.read_excel('../data/Wind_data_copy.xlsx', sheet_name='Predict')\n",
    "df.shape"
   ]
  },
  {
   "cell_type": "code",
   "execution_count": 3,
   "id": "73cd9239",
   "metadata": {},
   "outputs": [
    {
     "name": "stdout",
     "output_type": "stream",
     "text": [
      "There are a total of 93 missing values.\n"
     ]
    }
   ],
   "source": [
    "print(\"There are a total of\", df.isnull().sum().sum(), \"missing values.\")"
   ]
  },
  {
   "cell_type": "code",
   "execution_count": 4,
   "id": "8c75b50c",
   "metadata": {},
   "outputs": [
    {
     "name": "stdout",
     "output_type": "stream",
     "text": [
      "The columns with missing values and corresponding count of missing values:\n"
     ]
    },
    {
     "data": {
      "text/plain": [
       "CF    93\n",
       "dtype: int64"
      ]
     },
     "execution_count": 4,
     "metadata": {},
     "output_type": "execute_result"
    }
   ],
   "source": [
    "print(\"The columns with missing values and corresponding count of missing values:\")\n",
    "missing_values_per_column = df.isnull().sum()\n",
    "missing_values_per_column[missing_values_per_column > 0]"
   ]
  },
  {
   "cell_type": "markdown",
   "id": "8ec203a5",
   "metadata": {},
   "source": [
    "Thus there are no missing values in wind speeds."
   ]
  },
  {
   "cell_type": "code",
   "execution_count": null,
   "id": "5f45f58b",
   "metadata": {},
   "outputs": [],
   "source": []
  }
 ],
 "metadata": {
  "kernelspec": {
   "display_name": "Python 3 (ipykernel)",
   "language": "python",
   "name": "python3"
  },
  "language_info": {
   "codemirror_mode": {
    "name": "ipython",
    "version": 3
   },
   "file_extension": ".py",
   "mimetype": "text/x-python",
   "name": "python",
   "nbconvert_exporter": "python",
   "pygments_lexer": "ipython3",
   "version": "3.10.9"
  }
 },
 "nbformat": 4,
 "nbformat_minor": 5
}
